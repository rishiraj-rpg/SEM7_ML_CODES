{
  "nbformat": 4,
  "nbformat_minor": 0,
  "metadata": {
    "colab": {
      "provenance": [],
      "collapsed_sections": []
    },
    "kernelspec": {
      "name": "python3",
      "display_name": "Python 3"
    },
    "language_info": {
      "name": "python"
    }
  },
  "cells": [
    {
      "cell_type": "code",
      "execution_count": null,
      "metadata": {
        "id": "bb5sdXwe1gaA"
      },
      "outputs": [],
      "source": [
        "import numpy as np\n",
        "import pandas as pd"
      ]
    },
    {
      "cell_type": "code",
      "source": [
        "df = pd.read_csv('exp2.csv.csv')\n",
        "n_row = df.shape[0]\n",
        "\n",
        "li = []\n",
        "for i in range(n_row):\n",
        "    li.append(1)\n",
        "\n",
        "df.insert(0,\"X0\", li, True)  \n",
        "print(df)\n"
      ],
      "metadata": {
        "colab": {
          "base_uri": "https://localhost:8080/"
        },
        "id": "_ziFE2ZL15UO",
        "outputId": "a58611c5-dfd5-4214-d9c8-a518aafa5598"
      },
      "execution_count": null,
      "outputs": [
        {
          "output_type": "stream",
          "name": "stdout",
          "text": [
            "   X0  X1  X2    Y\n",
            "0   1   5  45  460\n",
            "1   1   3  40  232\n",
            "2   1   3  30  315\n",
            "3   1   2  36  178\n"
          ]
        }
      ]
    },
    {
      "cell_type": "code",
      "source": [
        "main_matrix = df.to_numpy()"
      ],
      "metadata": {
        "id": "m5N8zi2v3CSb"
      },
      "execution_count": null,
      "outputs": []
    },
    {
      "cell_type": "code",
      "source": [
        "print(main_matrix)\n"
      ],
      "metadata": {
        "colab": {
          "base_uri": "https://localhost:8080/"
        },
        "id": "-xD-ILvg3wtD",
        "outputId": "a0b4cb7e-e780-4882-c9d4-f1f25c2c9941"
      },
      "execution_count": null,
      "outputs": [
        {
          "output_type": "stream",
          "name": "stdout",
          "text": [
            "[[  1   5  45 460]\n",
            " [  1   3  40 232]\n",
            " [  1   3  30 315]\n",
            " [  1   2  36 178]]\n"
          ]
        }
      ]
    },
    {
      "cell_type": "code",
      "source": [
        "n_col = df.shape[1]\n",
        "\n",
        "result = np.hsplit(main_matrix, [n_col-1,n_col]) \n",
        "X = result[0]\n",
        "Y = result[1]\n",
        "\n",
        "print(X)\n",
        "print(Y)"
      ],
      "metadata": {
        "colab": {
          "base_uri": "https://localhost:8080/"
        },
        "id": "OMAggRDK5ie1",
        "outputId": "1dafdca7-2144-45b0-fb52-5fadf5530c83"
      },
      "execution_count": null,
      "outputs": [
        {
          "output_type": "stream",
          "name": "stdout",
          "text": [
            "[[ 1  5 45]\n",
            " [ 1  3 40]\n",
            " [ 1  3 30]\n",
            " [ 1  2 36]]\n",
            "[[460]\n",
            " [232]\n",
            " [315]\n",
            " [178]]\n"
          ]
        }
      ]
    },
    {
      "cell_type": "code",
      "source": [
        "X_T = X.transpose()\n",
        "print(X_T)"
      ],
      "metadata": {
        "colab": {
          "base_uri": "https://localhost:8080/"
        },
        "id": "lCAnTlnE48zk",
        "outputId": "496549ae-feb1-441d-852f-dde6347b6dd1"
      },
      "execution_count": null,
      "outputs": [
        {
          "output_type": "stream",
          "name": "stdout",
          "text": [
            "[[ 1  1  1  1]\n",
            " [ 5  3  3  2]\n",
            " [45 40 30 36]]\n"
          ]
        }
      ]
    },
    {
      "cell_type": "code",
      "source": [
        "X_T_X = np.matmul(X_T,X)\n",
        "print(X_T_X)"
      ],
      "metadata": {
        "colab": {
          "base_uri": "https://localhost:8080/"
        },
        "id": "T0wkYg9s9QfT",
        "outputId": "f75ef55a-1e76-474b-862e-f758ac390be5"
      },
      "execution_count": null,
      "outputs": [
        {
          "output_type": "stream",
          "name": "stdout",
          "text": [
            "[[   4   13  151]\n",
            " [  13   47  507]\n",
            " [ 151  507 5821]]\n"
          ]
        }
      ]
    },
    {
      "cell_type": "code",
      "source": [
        "inv = np.linalg.inv(X_T_X)\n",
        "print(inv)"
      ],
      "metadata": {
        "colab": {
          "base_uri": "https://localhost:8080/"
        },
        "id": "QLffAgfF-WiF",
        "outputId": "233d2136-a63d-4ca7-f868-d162df0aba5a"
      },
      "execution_count": null,
      "outputs": [
        {
          "output_type": "stream",
          "name": "stdout",
          "text": [
            "[[13.35864297  0.71405493 -0.40872375]\n",
            " [ 0.71405493  0.3901454  -0.05250404]\n",
            " [-0.40872375 -0.05250404  0.01534733]]\n"
          ]
        }
      ]
    },
    {
      "cell_type": "code",
      "source": [
        "inv_T = np.matmul(inv, X_T)\n",
        "print(inv_T)"
      ],
      "metadata": {
        "colab": {
          "base_uri": "https://localhost:8080/"
        },
        "id": "g7keobQR-5h4",
        "outputId": "b4087513-4048-479c-8b67-3592784614f5"
      },
      "execution_count": null,
      "outputs": [
        {
          "output_type": "stream",
          "name": "stdout",
          "text": [
            "[[-1.46365105 -0.84814216  3.23909532  0.0726979 ]\n",
            " [ 0.30210016 -0.21567044  0.30936995 -0.39579968]\n",
            " [ 0.01938611  0.04765751 -0.10581583  0.03877221]]\n"
          ]
        }
      ]
    },
    {
      "cell_type": "code",
      "source": [
        "answer = np.matmul(inv_T, Y)\n",
        "print(answer)"
      ],
      "metadata": {
        "colab": {
          "base_uri": "https://localhost:8080/"
        },
        "id": "2XrBjHLj_cFw",
        "outputId": "907474a4-a1a5-4740-bc27-3009b160f0f7"
      },
      "execution_count": null,
      "outputs": [
        {
          "output_type": "stream",
          "name": "stdout",
          "text": [
            "[[163.20678514]\n",
            " [115.92972536]\n",
            " [ -6.45638126]]\n"
          ]
        }
      ]
    },
    {
      "cell_type": "code",
      "source": [
        "temp = \"\"\n",
        "for i in range(1,n_col-1):\n",
        "  if answer[i][0]<0:\n",
        "    temp += \" - \"+str(-answer[i][0])+\" X\"+str(i)\n",
        "  else:\n",
        "    temp += \" + \"+str(answer[i][0])+\" X\"+str(i)\n",
        "print(\"Y = \"+ str(answer[0][0])+temp)\n"
      ],
      "metadata": {
        "colab": {
          "base_uri": "https://localhost:8080/"
        },
        "id": "ZashyrdW_o5H",
        "outputId": "fbfe8e80-61e1-4501-955b-aa28ff4b3b9e"
      },
      "execution_count": null,
      "outputs": [
        {
          "output_type": "stream",
          "name": "stdout",
          "text": [
            "Y = 163.20678513731286 + 115.92972536348917 X1 - 6.45638126009684 X2\n"
          ]
        }
      ]
    },
    {
      "cell_type": "code",
      "source": [],
      "metadata": {
        "id": "FQEllxk0BwmH"
      },
      "execution_count": null,
      "outputs": []
    }
  ]
}