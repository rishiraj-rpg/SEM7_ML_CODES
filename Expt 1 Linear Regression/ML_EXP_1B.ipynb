{
  "nbformat": 4,
  "nbformat_minor": 0,
  "metadata": {
    "colab": {
      "provenance": [],
      "collapsed_sections": []
    },
    "kernelspec": {
      "name": "python3",
      "display_name": "Python 3"
    },
    "language_info": {
      "name": "python"
    }
  },
  "cells": [
    {
      "cell_type": "markdown",
      "source": [
        "# **SIMPLE LINEAR REGRESSION USING SGD**"
      ],
      "metadata": {
        "id": "PeKY9LxWYhLC"
      }
    },
    {
      "cell_type": "code",
      "execution_count": null,
      "metadata": {
        "id": "98-a1BZJfxYL"
      },
      "outputs": [],
      "source": [
        "import pandas as pd\n",
        "import numpy as np\n",
        "\n",
        "# Reading csv file from github repo\n",
        "advertising = pd.read_csv('exp1b.csv')"
      ]
    },
    {
      "cell_type": "code",
      "source": [
        "from sklearn import preprocessing\n",
        "d = preprocessing.normalize(advertising)\n",
        "df = pd.DataFrame(d, columns=[\"TV\",\"Sales\"])\n",
        "df.head()"
      ],
      "metadata": {
        "colab": {
          "base_uri": "https://localhost:8080/",
          "height": 206
        },
        "id": "UuKeZhCueU_F",
        "outputId": "c9324d5f-f0fc-461d-9933-7cdf4aa50357"
      },
      "execution_count": null,
      "outputs": [
        {
          "output_type": "execute_result",
          "data": {
            "text/plain": [
              "         TV     Sales\n",
              "0  0.995419  0.095605\n",
              "1  0.973760  0.227575\n",
              "2  0.879649  0.475624\n",
              "3  0.992627  0.121212\n",
              "4  0.997464  0.071169"
            ],
            "text/html": [
              "\n",
              "  <div id=\"df-005cbf49-dde5-40f3-9472-8fac982bc401\">\n",
              "    <div class=\"colab-df-container\">\n",
              "      <div>\n",
              "<style scoped>\n",
              "    .dataframe tbody tr th:only-of-type {\n",
              "        vertical-align: middle;\n",
              "    }\n",
              "\n",
              "    .dataframe tbody tr th {\n",
              "        vertical-align: top;\n",
              "    }\n",
              "\n",
              "    .dataframe thead th {\n",
              "        text-align: right;\n",
              "    }\n",
              "</style>\n",
              "<table border=\"1\" class=\"dataframe\">\n",
              "  <thead>\n",
              "    <tr style=\"text-align: right;\">\n",
              "      <th></th>\n",
              "      <th>TV</th>\n",
              "      <th>Sales</th>\n",
              "    </tr>\n",
              "  </thead>\n",
              "  <tbody>\n",
              "    <tr>\n",
              "      <th>0</th>\n",
              "      <td>0.995419</td>\n",
              "      <td>0.095605</td>\n",
              "    </tr>\n",
              "    <tr>\n",
              "      <th>1</th>\n",
              "      <td>0.973760</td>\n",
              "      <td>0.227575</td>\n",
              "    </tr>\n",
              "    <tr>\n",
              "      <th>2</th>\n",
              "      <td>0.879649</td>\n",
              "      <td>0.475624</td>\n",
              "    </tr>\n",
              "    <tr>\n",
              "      <th>3</th>\n",
              "      <td>0.992627</td>\n",
              "      <td>0.121212</td>\n",
              "    </tr>\n",
              "    <tr>\n",
              "      <th>4</th>\n",
              "      <td>0.997464</td>\n",
              "      <td>0.071169</td>\n",
              "    </tr>\n",
              "  </tbody>\n",
              "</table>\n",
              "</div>\n",
              "      <button class=\"colab-df-convert\" onclick=\"convertToInteractive('df-005cbf49-dde5-40f3-9472-8fac982bc401')\"\n",
              "              title=\"Convert this dataframe to an interactive table.\"\n",
              "              style=\"display:none;\">\n",
              "        \n",
              "  <svg xmlns=\"http://www.w3.org/2000/svg\" height=\"24px\"viewBox=\"0 0 24 24\"\n",
              "       width=\"24px\">\n",
              "    <path d=\"M0 0h24v24H0V0z\" fill=\"none\"/>\n",
              "    <path d=\"M18.56 5.44l.94 2.06.94-2.06 2.06-.94-2.06-.94-.94-2.06-.94 2.06-2.06.94zm-11 1L8.5 8.5l.94-2.06 2.06-.94-2.06-.94L8.5 2.5l-.94 2.06-2.06.94zm10 10l.94 2.06.94-2.06 2.06-.94-2.06-.94-.94-2.06-.94 2.06-2.06.94z\"/><path d=\"M17.41 7.96l-1.37-1.37c-.4-.4-.92-.59-1.43-.59-.52 0-1.04.2-1.43.59L10.3 9.45l-7.72 7.72c-.78.78-.78 2.05 0 2.83L4 21.41c.39.39.9.59 1.41.59.51 0 1.02-.2 1.41-.59l7.78-7.78 2.81-2.81c.8-.78.8-2.07 0-2.86zM5.41 20L4 18.59l7.72-7.72 1.47 1.35L5.41 20z\"/>\n",
              "  </svg>\n",
              "      </button>\n",
              "      \n",
              "  <style>\n",
              "    .colab-df-container {\n",
              "      display:flex;\n",
              "      flex-wrap:wrap;\n",
              "      gap: 12px;\n",
              "    }\n",
              "\n",
              "    .colab-df-convert {\n",
              "      background-color: #E8F0FE;\n",
              "      border: none;\n",
              "      border-radius: 50%;\n",
              "      cursor: pointer;\n",
              "      display: none;\n",
              "      fill: #1967D2;\n",
              "      height: 32px;\n",
              "      padding: 0 0 0 0;\n",
              "      width: 32px;\n",
              "    }\n",
              "\n",
              "    .colab-df-convert:hover {\n",
              "      background-color: #E2EBFA;\n",
              "      box-shadow: 0px 1px 2px rgba(60, 64, 67, 0.3), 0px 1px 3px 1px rgba(60, 64, 67, 0.15);\n",
              "      fill: #174EA6;\n",
              "    }\n",
              "\n",
              "    [theme=dark] .colab-df-convert {\n",
              "      background-color: #3B4455;\n",
              "      fill: #D2E3FC;\n",
              "    }\n",
              "\n",
              "    [theme=dark] .colab-df-convert:hover {\n",
              "      background-color: #434B5C;\n",
              "      box-shadow: 0px 1px 3px 1px rgba(0, 0, 0, 0.15);\n",
              "      filter: drop-shadow(0px 1px 2px rgba(0, 0, 0, 0.3));\n",
              "      fill: #FFFFFF;\n",
              "    }\n",
              "  </style>\n",
              "\n",
              "      <script>\n",
              "        const buttonEl =\n",
              "          document.querySelector('#df-005cbf49-dde5-40f3-9472-8fac982bc401 button.colab-df-convert');\n",
              "        buttonEl.style.display =\n",
              "          google.colab.kernel.accessAllowed ? 'block' : 'none';\n",
              "\n",
              "        async function convertToInteractive(key) {\n",
              "          const element = document.querySelector('#df-005cbf49-dde5-40f3-9472-8fac982bc401');\n",
              "          const dataTable =\n",
              "            await google.colab.kernel.invokeFunction('convertToInteractive',\n",
              "                                                     [key], {});\n",
              "          if (!dataTable) return;\n",
              "\n",
              "          const docLinkHtml = 'Like what you see? Visit the ' +\n",
              "            '<a target=\"_blank\" href=https://colab.research.google.com/notebooks/data_table.ipynb>data table notebook</a>'\n",
              "            + ' to learn more about interactive tables.';\n",
              "          element.innerHTML = '';\n",
              "          dataTable['output_type'] = 'display_data';\n",
              "          await google.colab.output.renderOutput(dataTable, element);\n",
              "          const docLink = document.createElement('div');\n",
              "          docLink.innerHTML = docLinkHtml;\n",
              "          element.appendChild(docLink);\n",
              "        }\n",
              "      </script>\n",
              "    </div>\n",
              "  </div>\n",
              "  "
            ]
          },
          "metadata": {},
          "execution_count": 50
        }
      ]
    },
    {
      "cell_type": "code",
      "source": [
        "# Let's look at some statistical information about the dataframe.\n",
        "df.describe()"
      ],
      "metadata": {
        "colab": {
          "base_uri": "https://localhost:8080/",
          "height": 300
        },
        "id": "dwXjXB-3iSME",
        "outputId": "a7b6141f-735d-4ce4-9c7e-903313d4aa97"
      },
      "execution_count": null,
      "outputs": [
        {
          "output_type": "execute_result",
          "data": {
            "text/plain": [
              "               TV       Sales\n",
              "count  200.000000  200.000000\n",
              "mean     0.977467    0.150675\n",
              "std      0.059319    0.135821\n",
              "min      0.400819    0.042607\n",
              "25%      0.988269    0.079399\n",
              "50%      0.994986    0.100007\n",
              "75%      0.996843    0.152726\n",
              "max      0.999092    0.916157"
            ],
            "text/html": [
              "\n",
              "  <div id=\"df-aa3d64c6-8b5f-4499-8d37-fde95c3a2a58\">\n",
              "    <div class=\"colab-df-container\">\n",
              "      <div>\n",
              "<style scoped>\n",
              "    .dataframe tbody tr th:only-of-type {\n",
              "        vertical-align: middle;\n",
              "    }\n",
              "\n",
              "    .dataframe tbody tr th {\n",
              "        vertical-align: top;\n",
              "    }\n",
              "\n",
              "    .dataframe thead th {\n",
              "        text-align: right;\n",
              "    }\n",
              "</style>\n",
              "<table border=\"1\" class=\"dataframe\">\n",
              "  <thead>\n",
              "    <tr style=\"text-align: right;\">\n",
              "      <th></th>\n",
              "      <th>TV</th>\n",
              "      <th>Sales</th>\n",
              "    </tr>\n",
              "  </thead>\n",
              "  <tbody>\n",
              "    <tr>\n",
              "      <th>count</th>\n",
              "      <td>200.000000</td>\n",
              "      <td>200.000000</td>\n",
              "    </tr>\n",
              "    <tr>\n",
              "      <th>mean</th>\n",
              "      <td>0.977467</td>\n",
              "      <td>0.150675</td>\n",
              "    </tr>\n",
              "    <tr>\n",
              "      <th>std</th>\n",
              "      <td>0.059319</td>\n",
              "      <td>0.135821</td>\n",
              "    </tr>\n",
              "    <tr>\n",
              "      <th>min</th>\n",
              "      <td>0.400819</td>\n",
              "      <td>0.042607</td>\n",
              "    </tr>\n",
              "    <tr>\n",
              "      <th>25%</th>\n",
              "      <td>0.988269</td>\n",
              "      <td>0.079399</td>\n",
              "    </tr>\n",
              "    <tr>\n",
              "      <th>50%</th>\n",
              "      <td>0.994986</td>\n",
              "      <td>0.100007</td>\n",
              "    </tr>\n",
              "    <tr>\n",
              "      <th>75%</th>\n",
              "      <td>0.996843</td>\n",
              "      <td>0.152726</td>\n",
              "    </tr>\n",
              "    <tr>\n",
              "      <th>max</th>\n",
              "      <td>0.999092</td>\n",
              "      <td>0.916157</td>\n",
              "    </tr>\n",
              "  </tbody>\n",
              "</table>\n",
              "</div>\n",
              "      <button class=\"colab-df-convert\" onclick=\"convertToInteractive('df-aa3d64c6-8b5f-4499-8d37-fde95c3a2a58')\"\n",
              "              title=\"Convert this dataframe to an interactive table.\"\n",
              "              style=\"display:none;\">\n",
              "        \n",
              "  <svg xmlns=\"http://www.w3.org/2000/svg\" height=\"24px\"viewBox=\"0 0 24 24\"\n",
              "       width=\"24px\">\n",
              "    <path d=\"M0 0h24v24H0V0z\" fill=\"none\"/>\n",
              "    <path d=\"M18.56 5.44l.94 2.06.94-2.06 2.06-.94-2.06-.94-.94-2.06-.94 2.06-2.06.94zm-11 1L8.5 8.5l.94-2.06 2.06-.94-2.06-.94L8.5 2.5l-.94 2.06-2.06.94zm10 10l.94 2.06.94-2.06 2.06-.94-2.06-.94-.94-2.06-.94 2.06-2.06.94z\"/><path d=\"M17.41 7.96l-1.37-1.37c-.4-.4-.92-.59-1.43-.59-.52 0-1.04.2-1.43.59L10.3 9.45l-7.72 7.72c-.78.78-.78 2.05 0 2.83L4 21.41c.39.39.9.59 1.41.59.51 0 1.02-.2 1.41-.59l7.78-7.78 2.81-2.81c.8-.78.8-2.07 0-2.86zM5.41 20L4 18.59l7.72-7.72 1.47 1.35L5.41 20z\"/>\n",
              "  </svg>\n",
              "      </button>\n",
              "      \n",
              "  <style>\n",
              "    .colab-df-container {\n",
              "      display:flex;\n",
              "      flex-wrap:wrap;\n",
              "      gap: 12px;\n",
              "    }\n",
              "\n",
              "    .colab-df-convert {\n",
              "      background-color: #E8F0FE;\n",
              "      border: none;\n",
              "      border-radius: 50%;\n",
              "      cursor: pointer;\n",
              "      display: none;\n",
              "      fill: #1967D2;\n",
              "      height: 32px;\n",
              "      padding: 0 0 0 0;\n",
              "      width: 32px;\n",
              "    }\n",
              "\n",
              "    .colab-df-convert:hover {\n",
              "      background-color: #E2EBFA;\n",
              "      box-shadow: 0px 1px 2px rgba(60, 64, 67, 0.3), 0px 1px 3px 1px rgba(60, 64, 67, 0.15);\n",
              "      fill: #174EA6;\n",
              "    }\n",
              "\n",
              "    [theme=dark] .colab-df-convert {\n",
              "      background-color: #3B4455;\n",
              "      fill: #D2E3FC;\n",
              "    }\n",
              "\n",
              "    [theme=dark] .colab-df-convert:hover {\n",
              "      background-color: #434B5C;\n",
              "      box-shadow: 0px 1px 3px 1px rgba(0, 0, 0, 0.15);\n",
              "      filter: drop-shadow(0px 1px 2px rgba(0, 0, 0, 0.3));\n",
              "      fill: #FFFFFF;\n",
              "    }\n",
              "  </style>\n",
              "\n",
              "      <script>\n",
              "        const buttonEl =\n",
              "          document.querySelector('#df-aa3d64c6-8b5f-4499-8d37-fde95c3a2a58 button.colab-df-convert');\n",
              "        buttonEl.style.display =\n",
              "          google.colab.kernel.accessAllowed ? 'block' : 'none';\n",
              "\n",
              "        async function convertToInteractive(key) {\n",
              "          const element = document.querySelector('#df-aa3d64c6-8b5f-4499-8d37-fde95c3a2a58');\n",
              "          const dataTable =\n",
              "            await google.colab.kernel.invokeFunction('convertToInteractive',\n",
              "                                                     [key], {});\n",
              "          if (!dataTable) return;\n",
              "\n",
              "          const docLinkHtml = 'Like what you see? Visit the ' +\n",
              "            '<a target=\"_blank\" href=https://colab.research.google.com/notebooks/data_table.ipynb>data table notebook</a>'\n",
              "            + ' to learn more about interactive tables.';\n",
              "          element.innerHTML = '';\n",
              "          dataTable['output_type'] = 'display_data';\n",
              "          await google.colab.output.renderOutput(dataTable, element);\n",
              "          const docLink = document.createElement('div');\n",
              "          docLink.innerHTML = docLinkHtml;\n",
              "          element.appendChild(docLink);\n",
              "        }\n",
              "      </script>\n",
              "    </div>\n",
              "  </div>\n",
              "  "
            ]
          },
          "metadata": {},
          "execution_count": 51
        }
      ]
    },
    {
      "cell_type": "code",
      "source": [
        "# Visualise the relationship between the features and the response using scatterplots\n",
        "advertising.plot(x='TV',y='Sales',kind='scatter')"
      ],
      "metadata": {
        "colab": {
          "base_uri": "https://localhost:8080/",
          "height": 297
        },
        "id": "UYX72a3yiaqt",
        "outputId": "06057ffd-5947-4b6b-afcf-e22a262f1a81"
      },
      "execution_count": null,
      "outputs": [
        {
          "output_type": "execute_result",
          "data": {
            "text/plain": [
              "<matplotlib.axes._subplots.AxesSubplot at 0x7f14956ec110>"
            ]
          },
          "metadata": {},
          "execution_count": 52
        },
        {
          "output_type": "display_data",
          "data": {
            "text/plain": [
              "<Figure size 432x288 with 1 Axes>"
            ],
            "image/png": "[encoded data removed]"
          },
          "metadata": {
            "needs_background": "light"
          }
        }
      ]
    },
    {
      "cell_type": "code",
      "source": [
        "# Putting feature variable to X\n",
        "x = df['TV']\n",
        "\n",
        "# Print the first 5 rows\n",
        "x.head()"
      ],
      "metadata": {
        "colab": {
          "base_uri": "https://localhost:8080/"
        },
        "id": "nE4cZwQGig0R",
        "outputId": "77757e2b-b42c-4f03-9cb0-2880ae86a28a"
      },
      "execution_count": null,
      "outputs": [
        {
          "output_type": "execute_result",
          "data": {
            "text/plain": [
              "0    0.995419\n",
              "1    0.973760\n",
              "2    0.879649\n",
              "3    0.992627\n",
              "4    0.997464\n",
              "Name: TV, dtype: float64"
            ]
          },
          "metadata": {},
          "execution_count": 53
        }
      ]
    },
    {
      "cell_type": "code",
      "source": [
        "# Putting response variable to y\n",
        "y = df['Sales']\n",
        "\n",
        "# Print the first 5 rows\n",
        "y.head()"
      ],
      "metadata": {
        "colab": {
          "base_uri": "https://localhost:8080/"
        },
        "id": "1GCPEdZhikQi",
        "outputId": "e82cf3ea-2343-4194-e701-b2ebd51ee79a"
      },
      "execution_count": null,
      "outputs": [
        {
          "output_type": "execute_result",
          "data": {
            "text/plain": [
              "0    0.095605\n",
              "1    0.227575\n",
              "2    0.475624\n",
              "3    0.121212\n",
              "4    0.071169\n",
              "Name: Sales, dtype: float64"
            ]
          },
          "metadata": {},
          "execution_count": 54
        }
      ]
    },
    {
      "cell_type": "code",
      "source": [
        "x.head()"
      ],
      "metadata": {
        "colab": {
          "base_uri": "https://localhost:8080/"
        },
        "id": "sIEhDXAUcbsO",
        "outputId": "8bb8c529-16e4-4f20-a86a-8b5ed421a27a"
      },
      "execution_count": null,
      "outputs": [
        {
          "output_type": "execute_result",
          "data": {
            "text/plain": [
              "0    0.995419\n",
              "1    0.973760\n",
              "2    0.879649\n",
              "3    0.992627\n",
              "4    0.997464\n",
              "Name: TV, dtype: float64"
            ]
          },
          "metadata": {},
          "execution_count": 55
        }
      ]
    },
    {
      "cell_type": "code",
      "source": [
        "#random_state is the seed used by the random number generator, it can be any integer.\n",
        "\n",
        "from sklearn.model_selection import train_test_split\n",
        "x_train, x_test, y_train, y_test = train_test_split(x, y, train_size=0.7 , random_state=0000)"
      ],
      "metadata": {
        "id": "F6K2psFoim42"
      },
      "execution_count": null,
      "outputs": []
    },
    {
      "cell_type": "code",
      "source": [
        "print(type(x_train))\n",
        "print(type(x_test))\n",
        "print(type(y_train))\n",
        "print(type(y_test))"
      ],
      "metadata": {
        "colab": {
          "base_uri": "https://localhost:8080/"
        },
        "id": "5nMRVHxppVF4",
        "outputId": "7f3a2eee-4262-4a76-dfc1-e44cd32bbda8"
      },
      "execution_count": null,
      "outputs": [
        {
          "output_type": "stream",
          "name": "stdout",
          "text": [
            "<class 'pandas.core.series.Series'>\n",
            "<class 'pandas.core.series.Series'>\n",
            "<class 'pandas.core.series.Series'>\n",
            "<class 'pandas.core.series.Series'>\n"
          ]
        }
      ]
    },
    {
      "cell_type": "code",
      "source": [
        "train_test_split     "
      ],
      "metadata": {
        "colab": {
          "base_uri": "https://localhost:8080/"
        },
        "id": "fHbv8AhipZFw",
        "outputId": "46b474b3-193a-4187-d23f-a4c2ad0b22f4"
      },
      "execution_count": null,
      "outputs": [
        {
          "output_type": "execute_result",
          "data": {
            "text/plain": [
              "<function sklearn.model_selection._split.train_test_split(*arrays, test_size=None, train_size=None, random_state=None, shuffle=True, stratify=None)>"
            ]
          },
          "metadata": {},
          "execution_count": 58
        }
      ]
    },
    {
      "cell_type": "code",
      "source": [
        "print(x_train.shape)\n",
        "print(y_train.shape)\n",
        "print(x_test.shape)\n",
        "print(y_test.shape)"
      ],
      "metadata": {
        "colab": {
          "base_uri": "https://localhost:8080/"
        },
        "id": "BxPrIaw1ptIw",
        "outputId": "2871f827-6be1-41de-8020-76cf771a99ef"
      },
      "execution_count": null,
      "outputs": [
        {
          "output_type": "stream",
          "name": "stdout",
          "text": [
            "(140,)\n",
            "(140,)\n",
            "(60,)\n",
            "(60,)\n"
          ]
        }
      ]
    },
    {
      "cell_type": "code",
      "source": [
        "import math\n",
        "b0=0\n",
        "b1=0\n",
        "alpha=0.01\n",
        "Q=0\n",
        "# print(x_train[3])\n",
        "# print(x_train.shape[0])\n",
        "#calculating Q initial\n",
        "for i in range(0,x.shape[0]):\n",
        "  # print('x train, y train =',x_train[i],y_train[i])\n",
        "  temp = y[i]-b0-(b1*x[i])\n",
        "  Q = Q + math.pow(temp,2)\n",
        "\n",
        "print(\"Initial Cost Function =\",Q)\n"
      ],
      "metadata": {
        "colab": {
          "base_uri": "https://localhost:8080/"
        },
        "id": "ZTktz9l2i8DT",
        "outputId": "791736ea-ae2f-4c47-be08-c1bd42dca31c"
      },
      "execution_count": null,
      "outputs": [
        {
          "output_type": "stream",
          "name": "stdout",
          "text": [
            "Initial Cost Function = 8.21160114767806\n"
          ]
        }
      ]
    },
    {
      "cell_type": "code",
      "source": [
        "#calculating pd of Q wrt B0\n",
        "pdb0 = 0\n",
        "for i in range(0,10):\n",
        "  pdb0 = pdb0 + (y[i]-b0-(b1*x[i]))\n",
        "pdb0 = -2 * pdb0\n",
        "print('Initial Partial Derivative of Q wrt B0 =',pdb0)\n",
        "\n",
        "#calculating pd of Q wrt B1\n",
        "pdb1 = 0\n",
        "for i in range(0,10):\n",
        "  pdb1 = pdb1 + (x[i] * (y[i]-b0-(b1*x[i])))\n",
        "pdb1 = -2 * pdb1\n",
        "print('Initial Partial Derivative of Q wrt B1 =',pdb1)\n",
        "\n",
        "b0 = b0 - (alpha*pdb0)\n",
        "b1 = b1 - (alpha*pdb1)\n",
        "\n",
        "print('New value of B0 =',b0)\n",
        "print('New value of B1 =',b1)"
      ],
      "metadata": {
        "colab": {
          "base_uri": "https://localhost:8080/"
        },
        "id": "rJFG_Ak-o4XO",
        "outputId": "b20bd58a-656b-4b71-82e0-4618d63802b2"
      },
      "execution_count": null,
      "outputs": [
        {
          "output_type": "stream",
          "name": "stdout",
          "text": [
            "Initial Partial Derivative of Q wrt B0 = -4.958572625617172\n",
            "Initial Partial Derivative of Q wrt B1 = -4.403083581555107\n",
            "New value of B0 = 0.04958572625617172\n",
            "New value of B1 = 0.04403083581555107\n"
          ]
        }
      ]
    },
    {
      "cell_type": "code",
      "source": [
        "for j in range(0,10):\n",
        "  print(\"\\nIteration \",j)\n",
        "  Q=0\n",
        "  for i in range(0,10):\n",
        "    temp = y[i]-b0-(b1*x[i])\n",
        "    Q = Q + math.pow(temp,2)\n",
        "\n",
        "  print(\"Cost Function =\",Q)\n",
        "\n",
        "  #calculating pd of Q wrt B0\n",
        "  pdb0 = 0\n",
        "  for i in range(0,10):\n",
        "    pdb0 = pdb0 + (y[i]-b0-(b1*x[i]))\n",
        "  pdb0 = -2 * pdb0\n",
        "  print('Partial Derivative of Q wrt B0 =',pdb0)\n",
        "\n",
        "  #calculating pd of Q wrt B1\n",
        "  pdb1 = 0\n",
        "  for i in range(0,10):\n",
        "    pdb1 = pdb1 + x[i] * (y[i]-b0-(b1*x[i]))\n",
        "  pdb1 = -2 * pdb1\n",
        "  print('Partial Derivative of Q wrt B1 =',pdb1)\n",
        "\n",
        "  b0 = b0 - (alpha*pdb0)\n",
        "  b1 = b1 - (alpha*pdb1)\n",
        "\n",
        "  print('New value of B0 =',b0)\n",
        "  print('New value of B1 =',b1)\n"
      ],
      "metadata": {
        "colab": {
          "base_uri": "https://localhost:8080/"
        },
        "id": "KPajULOnrZoW",
        "outputId": "8b3176ba-b92a-4bea-8edc-26632509d335"
      },
      "execution_count": null,
      "outputs": [
        {
          "output_type": "stream",
          "name": "stdout",
          "text": [
            "\n",
            "Iteration  0\n",
            "Cost Function = 0.6496230674461883\n",
            "Partial Derivative of Q wrt B0 = -3.134259942683442\n",
            "Partial Derivative of Q wrt B1 = -2.6734241872487776\n",
            "New value of B0 = 0.08092832568300615\n",
            "New value of B1 = 0.07076507768803884\n",
            "\n",
            "Iteration  1\n",
            "Cost Function = 0.5120115806466059\n",
            "Partial Derivative of Q wrt B0 = -2.001878587710639\n",
            "Partial Derivative of Q wrt B1 = -1.5998610469160601\n",
            "New value of B0 = 0.10094711156011253\n",
            "New value of B1 = 0.08676368815719945\n",
            "\n",
            "Iteration  2\n",
            "Cost Function = 0.45870659119459634\n",
            "Partial Derivative of Q wrt B0 = -1.2989782108604762\n",
            "Partial Derivative of Q wrt B1 = -0.9335360578238284\n",
            "New value of B0 = 0.11393689366871729\n",
            "New value of B1 = 0.09609904873543773\n",
            "\n",
            "Iteration  3\n",
            "Cost Function = 0.43788244765968165\n",
            "Partial Derivative of Q wrt B0 = -0.8626561894823142\n",
            "Partial Derivative of Q wrt B1 = -0.5199832890927867\n",
            "New value of B0 = 0.12256345556354042\n",
            "New value of B1 = 0.10129888162636559\n",
            "\n",
            "Iteration  4\n",
            "Cost Function = 0.42957243505917864\n",
            "Partial Derivative of Q wrt B0 = -0.5917990577953267\n",
            "Partial Derivative of Q wrt B1 = -0.263325919597635\n",
            "New value of B0 = 0.1284814461414937\n",
            "New value of B1 = 0.10393214082234194\n",
            "\n",
            "Iteration  5\n",
            "Cost Function = 0.426084036108625\n",
            "Partial Derivative of Q wrt B0 = -0.423645806820501\n",
            "Partial Derivative of Q wrt B1 = -0.10405331954386571\n",
            "New value of B0 = 0.13271790420969873\n",
            "New value of B1 = 0.1049726740177806\n",
            "\n",
            "Iteration  6\n",
            "Cost Function = 0.4244535771681199\n",
            "Partial Derivative of Q wrt B0 = -0.31924075228707954\n",
            "Partial Derivative of Q wrt B1 = -0.00522731120973241\n",
            "New value of B0 = 0.1359103117325695\n",
            "New value of B1 = 0.10502494712987792\n",
            "\n",
            "Iteration  7\n",
            "Cost Function = 0.42353925212571547\n",
            "Partial Derivative of Q wrt B0 = -0.25440414689736235\n",
            "Partial Derivative of Q wrt B1 = 0.056079588744404885\n",
            "New value of B0 = 0.13845435320154315\n",
            "New value of B1 = 0.10446415124243387\n",
            "\n",
            "Iteration  8\n",
            "Cost Function = 0.42290116035422287\n",
            "Partial Derivative of Q wrt B0 = -0.21412765000772638\n",
            "Partial Derivative of Q wrt B1 = 0.09409844217788216\n",
            "New value of B0 = 0.1405956297016204\n",
            "New value of B1 = 0.10352316682065504\n",
            "\n",
            "Iteration  9\n",
            "Cost Function = 0.4223698222655639\n",
            "Partial Derivative of Q wrt B0 = -0.18909560226900324\n",
            "Partial Derivative of Q wrt B1 = 0.11766245239281048\n",
            "New value of B0 = 0.14248658572431044\n",
            "New value of B1 = 0.10234654229672693\n"
          ]
        }
      ]
    }
  ]
}