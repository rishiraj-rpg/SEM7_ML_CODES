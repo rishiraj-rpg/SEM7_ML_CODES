{
  "nbformat": 4,
  "nbformat_minor": 0,
  "metadata": {
    "colab": {
      "provenance": [],
      "collapsed_sections": []
    },
    "kernelspec": {
      "name": "python3",
      "display_name": "Python 3"
    },
    "language_info": {
      "name": "python"
    }
  },
  "cells": [
    {
      "cell_type": "code",
      "execution_count": null,
      "metadata": {
        "id": "M2ZlxEPXSxRC"
      },
      "outputs": [],
      "source": [
        "import numpy as np\n",
        "import pandas as pd"
      ]
    },
    {
      "cell_type": "code",
      "source": [
        "df = pd.read_csv('exp3.csv')\n",
        "m = df.shape[0]\n",
        "n = df.shape[1]\n",
        "n = n-1\n",
        "\n",
        "print(df)\n",
        "print(\"\\n---------------------------\")\n",
        "li = []\n",
        "for i in range(m):\n",
        "    li.append(1)\n",
        "\n",
        "df.insert(0,\"X0\", li, True)\n",
        "print(df)\n",
        "\n",
        "print(\"\\nNo. of Samples:\",m)\n",
        "print(\"No. of features:\",n)"
      ],
      "metadata": {
        "colab": {
          "base_uri": "https://localhost:8080/"
        },
        "id": "6sVq3YS3TABJ",
        "outputId": "4f399273-0ade-44b3-8c4e-5d800411382f"
      },
      "execution_count": null,
      "outputs": [
        {
          "output_type": "stream",
          "name": "stdout",
          "text": [
            "      P     C     M  Y\n",
            "0  0.98  0.97  0.91  1\n",
            "1  0.87  0.91  0.90  1\n",
            "2  0.84  0.85  0.89  0\n",
            "3  0.88  0.86  0.87  0\n",
            "4  0.89  0.91  0.92  1\n",
            "\n",
            "---------------------------\n",
            "   X0     P     C     M  Y\n",
            "0   1  0.98  0.97  0.91  1\n",
            "1   1  0.87  0.91  0.90  1\n",
            "2   1  0.84  0.85  0.89  0\n",
            "3   1  0.88  0.86  0.87  0\n",
            "4   1  0.89  0.91  0.92  1\n",
            "\n",
            "No. of Samples: 5\n",
            "No. of features: 3\n"
          ]
        }
      ]
    },
    {
      "cell_type": "code",
      "source": [
        "theta_T = [-1, 0.7, 1, 0.5]\n",
        "print(theta_T)"
      ],
      "metadata": {
        "id": "9QURz8oTT4Uf",
        "colab": {
          "base_uri": "https://localhost:8080/"
        },
        "outputId": "c86acbc9-f4dd-4bf8-de8f-cde476faf56e"
      },
      "execution_count": null,
      "outputs": [
        {
          "output_type": "stream",
          "name": "stdout",
          "text": [
            "[-1, 0.7, 1, 0.5]\n"
          ]
        }
      ]
    },
    {
      "cell_type": "code",
      "source": [
        "main_matrix = df.to_numpy()"
      ],
      "metadata": {
        "id": "zrt8lFtbW8bQ"
      },
      "execution_count": null,
      "outputs": []
    },
    {
      "cell_type": "code",
      "source": [
        "n_col = df.shape[1]\n",
        "# print(n_col)\n",
        "\n",
        "result = np.hsplit(main_matrix,[n_col-1,n_col]) \n",
        "\n",
        "X = result[0]\n",
        "Y = result[1]\n",
        "\n",
        "print(\"X=\\n\",X)\n",
        "print(\"\\nY=\\n\",Y)"
      ],
      "metadata": {
        "id": "MqdDUtp6WunF",
        "colab": {
          "base_uri": "https://localhost:8080/"
        },
        "outputId": "66340119-fddf-4ebf-c80b-13974c67c2f0"
      },
      "execution_count": null,
      "outputs": [
        {
          "output_type": "stream",
          "name": "stdout",
          "text": [
            "X=\n",
            " [[1.   0.98 0.97 0.91]\n",
            " [1.   0.87 0.91 0.9 ]\n",
            " [1.   0.84 0.85 0.89]\n",
            " [1.   0.88 0.86 0.87]\n",
            " [1.   0.89 0.91 0.92]]\n",
            "\n",
            "Y=\n",
            " [[1.]\n",
            " [1.]\n",
            " [0.]\n",
            " [0.]\n",
            " [1.]]\n"
          ]
        }
      ]
    },
    {
      "cell_type": "code",
      "source": [
        "import math\n",
        "def h_theta_x(X):\n",
        "  X_T = X.transpose()\n",
        "  theta_T_X = np.matmul(theta_T,X_T)\n",
        "  return 1/(1+math.exp(-theta_T_X))"
      ],
      "metadata": {
        "id": "ls8GLUvCcUw0"
      },
      "execution_count": null,
      "outputs": []
    },
    {
      "cell_type": "code",
      "source": [
        "#Calculation of J theta\n",
        "import math\n",
        "J_theta=0\n",
        "for i in range(m):\n",
        "  temp = h_theta_x(X[i])\n",
        "  # print(temp)\n",
        "  J_theta = J_theta + (-Y[i] * math.log(temp,10)-((1-Y[i])*math.log(1-temp,10)))\n",
        "\n",
        "J_theta = 1/m * J_theta\n",
        "print(\"J theta =\",J_theta[0])"
      ],
      "metadata": {
        "id": "TipanitaW1ym",
        "colab": {
          "base_uri": "https://localhost:8080/"
        },
        "outputId": "09ecc8a8-b50f-4074-8aa5-e5c3b1db27e6"
      },
      "execution_count": null,
      "outputs": [
        {
          "output_type": "stream",
          "name": "stdout",
          "text": [
            "J theta = 0.29527913094328645\n"
          ]
        }
      ]
    },
    {
      "cell_type": "code",
      "source": [
        "#Updating the parameters\n",
        "alpha=0.3\n",
        "for k in range(2):\n",
        "  print(\"\\nEPOCH =\",k+1)\n",
        "  for j in range(len(theta_T)):\n",
        "    temp=0\n",
        "    for i in range(m):\n",
        "      temp = temp + (h_theta_x(X[i])-Y[i])*X[i][j]\n",
        "    # print(temp)\n",
        "    theta_T[j] = theta_T[j] - (alpha *temp[0])\n",
        "  \n",
        "  print(\"Theta =\",theta_T)\n",
        "\n",
        "  #Calculation of J theta\n",
        "  J_theta=0\n",
        "  for i in range(m):\n",
        "    temp = h_theta_x(X[i])\n",
        "    # print(temp)\n",
        "    J_theta = J_theta + (-Y[i] * math.log(temp,10)-((1-Y[i])*math.log(1-temp,10)))\n",
        "\n",
        "  J_theta = 1/m * J_theta\n",
        "  print(\"J theta =\",J_theta[0])"
      ],
      "metadata": {
        "id": "5op2GA8MjNVf",
        "colab": {
          "base_uri": "https://localhost:8080/"
        },
        "outputId": "32578eb8-c4f0-4953-a255-0c42a04715c8"
      },
      "execution_count": null,
      "outputs": [
        {
          "output_type": "stream",
          "name": "stdout",
          "text": [
            "\n",
            "EPOCH = 1\n",
            "Theta = [-1.1882691871314535, 0.6023017847427438, 0.9347842958157393, 0.4372275838465639]\n",
            "J theta = 0.28213578106612364\n",
            "\n",
            "EPOCH = 2\n",
            "Theta = [-1.2506237497758774, 0.5841073505364456, 0.9292388459898026, 0.41789210685321154]\n",
            "J theta = 0.28102216238292205\n"
          ]
        }
      ]
    }
  ]
}